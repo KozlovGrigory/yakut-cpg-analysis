{
 "cells": [
  {
   "cell_type": "code",
   "execution_count": null,
   "id": "8827e555",
   "metadata": {},
   "outputs": [],
   "source": [
    "import pickle\n",
    "import pandas as pd\n",
    "import numpy as np\n",
    "import seaborn as sns\n",
    "import matplotlib.pyplot as plt\n",
    "from scipy.stats import shapiro, pearsonr, spearmanr\n",
    "from tqdm import tqdm\n",
    "import statsmodels.api as sm\n",
    "from scipy.stats import levene\n",
    "from statsmodels.tools import add_constant\n",
    "from statsmodels.stats.multitest import multipletests\n",
    "from statsmodels.formula.api import ols\n",
    "import data_preproc as dp\n",
    "import regress_out_cells as roc"
   ]
  },
  {
   "cell_type": "code",
   "execution_count": null,
   "id": "e4f58930",
   "metadata": {},
   "outputs": [],
   "source": [
    "def levene_preproc(betas, pheno):\n",
    "    X_r = roc.regress_out_cells(betas, pheno, False)\n",
    "    df_Xr = pd.DataFrame(X_r, columns = betas.columns)\n",
    "    df_Xr = add_constant(df_Xr)\n",
    "    df_Xr = df_Xr.reset_index()\n",
    "    return df_Xr\n",
    "\n",
    "def bonferroni_correction(df_result, alpha, function):\n",
    "    pvalue_adjusted = multipletests(df_result[function + '_p-value'], alpha = alpha, method = 'bonferroni', is_sorted = True)\n",
    "    col_name = function + '_pvalue-adjusted' \n",
    "    df_result[col_name] = pvalue_adjusted[1]\n",
    "    if function == 'levene':\n",
    "        df_result = df_result.loc[(df_result[col_name] >= alpha)]\n",
    "    else:\n",
    "        df_result = df_result.loc[(df_result[col_name] <= alpha)]\n",
    "    return df_result\n",
    "\n",
    "def cpgs_list(cpgs_lst, file_name):\n",
    "    cpgs_list = open('{0}/{1}_cpgs.txt'.format(directory_folder, file_name), 'w')\n",
    "    for cpg in cpgs_lst:\n",
    "        cpgs_list.write(cpg + '\\n')\n",
    "    cpgs_list.close()\n",
    "    return cpgs_list"
   ]
  },
  {
   "cell_type": "code",
   "execution_count": null,
   "id": "fdf8c689",
   "metadata": {},
   "outputs": [],
   "source": [
    "directory_folder = ''\n",
    "pheno_folder = ''\n",
    "betas_folder = ''\n",
    "alpha = 0.001\n",
    "\n",
    "pheno_central, betas_central, pheno_yakutia, betas_yakutia = dp.data_preproc(directory_folder, pheno_folder, betas_folder)"
   ]
  },
  {
   "cell_type": "code",
   "execution_count": null,
   "id": "b13416b8",
   "metadata": {},
   "outputs": [],
   "source": [
    "betas_central_const = levene_preproc(betas_central, pheno_central)\n",
    "betas_yakutia_const = levene_preproc(betas_yakutia, pheno_yakutia)\n",
    "\n",
    "levene_result = {}\n",
    "for cpg_name in tqdm(betas_central.columns, ncols = 100):\n",
    "    formula1 = '{0} ~ index + const'.format(cpg_name) \n",
    "    formula2 = '{0} ~ index'.format(cpg_name) \n",
    "    model1 = ols(formula1, betas_central_const).fit()\n",
    "    model2 = ols(formula2, betas_yakutia_const).fit()\n",
    "    lvn = levene(model1.resid, model2.resid)\n",
    "    levene_result[cpg_name] = lvn[0], lvn[1]\n",
    "df_result = pd.DataFrame.from_dict(levene_result, orient = 'index', columns = ['levene_statistic', 'levene_p-value'])\n",
    "df_result = bonferroni_correction(df_result, alpha, 'levene')"
   ]
  },
  {
   "cell_type": "code",
   "execution_count": null,
   "id": "6fed72e6",
   "metadata": {},
   "outputs": [],
   "source": [
    "betas_central_const['c'] = 1 \n",
    "betas_all = pd.concat([betas_central_const, betas_yakutia_const], ignore_index = True).drop('const', axis = 1)\n",
    "betas_all = betas_all.fillna(0) \n",
    "betas_all['int'] = betas_all['index'] * betas_all['c']\n",
    "for cpg_name in tqdm(df_result.index, ncols = 100):    \n",
    "    formula3 = '{0} ~ index + c + int'.format(cpg_name) \n",
    "    result = ols(formula3, betas_all).fit() \n",
    "    hypotheses = '(c = 0), (int = 0)'\n",
    "    f_test = result.f_test(hypotheses)\n",
    "    \n",
    "    df_result.at[cpg_name, 'F-test_statistic'] = f_test.fvalue\n",
    "    df_result.at[cpg_name, 'F-test_p-value'] = f_test.pvalue\n",
    "\n",
    "df_result = bonferroni_correction(df_result, alpha, 'F-test')\n",
    "df_result = df_result.sort_values(by = 'F-test_pvalue-adjusted', ascending = True)"
   ]
  },
  {
   "cell_type": "code",
   "execution_count": null,
   "id": "837fec89",
   "metadata": {},
   "outputs": [],
   "source": [
    "correlation_central_fdr = pd.read_csv('', sep = '\\t')\n",
    "correlation_yakutia_fdr = pd.read_csv('', sep = '\\t')\n",
    "\n",
    "for i in range(0, 10):\n",
    "    cpg_name = df_result.index[i]\n",
    "    fig = plt.figure(figsize = (6, 6))\n",
    "    plt.plot(pheno_central['Age'], betas_central[cpg_name], 'o', color = '#4DAF4A', label = 'Central')\n",
    "    plt.plot(pheno_yakutia['Age'], betas_yakutia[cpg_name], 'o', color = '#3366CC', label = 'Yakutia')\n",
    "    plt.legend()\n",
    "    fig.patch.set_facecolor('white')\n",
    "\n",
    "    m, b = np.polyfit(pheno_central['Age'], betas_central[cpg_name], 1)\n",
    "    plt.plot(pheno_central['Age'], m * pheno_central['Age'] + b, color = '#4DAF4A')\n",
    "    a, c = np.polyfit(pheno_yakutia['Age'], betas_yakutia[cpg_name], 1)\n",
    "    plt.plot(pheno_yakutia['Age'], a * pheno_yakutia['Age'] + c, color = '#3366CC')\n",
    "    \n",
    "    plt.xlim([10, 105])\n",
    "    plt.ylim([0, 1])\n",
    "    plt.title('Corr. coef.: Central: {0:0.3f}, Yakutia: {1:0.3f},\\np-value: Central: {2:e}, Yakutia: {3:e}'.format(\n",
    "        list(correlation_central_fdr['correlation'])[i], list(correlation_yakutia_fdr['correlation'])[i], \n",
    "        list(correlation_central_fdr['pvalue-corrected'])[i], list(correlation_yakutia_fdr['pvalue-corrected'])[i]), fontsize = 14)\n",
    "    plt.ylabel(str(cpg_name))\n",
    "    plt.xlabel('Age')\n",
    "    fig.tight_layout()\n",
    "    plt.savefig('{0}/{1}_central.png'.format(directory_folder, cpg_name), dpi = 300)\n",
    "    plt.close()"
   ]
  },
  {
   "cell_type": "code",
   "execution_count": null,
   "id": "31d17d42",
   "metadata": {},
   "outputs": [],
   "source": [
    "ftest_unique = np.setdiff1d(df_result.index, list(correlation_central_fdr['cpg']))\n",
    "print('Unique CpGs selected by F-test analysis:', len(ftest_unique))\n",
    "\n",
    "correlation_unique = np.setdiff1d(list(correlation_central_fdr['cpg']), df_result.index)\n",
    "print('Unique CpGs selected by correlation analysis:', len(correlation_unique))\n",
    "\n",
    "general_correlation_ftest = list(set(correlation_central_fdr['cpg']) & set(df_result.index))\n",
    "print('General CpGs:', len(general_correction_ftest))\n",
    "\n",
    "ftest_all_cpgs = cpgs_list(df_result.index, 'ftest_all')\n",
    "ftest_unique_cpgs = cpgs_list(ftest_unique, 'ftest_unique')\n",
    "correlation_unique_cpgs = cpgs_list(correlation_unique, 'correlation_unique')\n",
    "general_correlation_ftest_cpgs = cpgs_list(general_correction_ftest, 'general_correlation_ftest')\n",
    "\n",
    "with pd.ExcelWriter('{0}/f-test_results.xlsx'.format(directory_folder)) as writer:\n",
    "    df_result.to_excel(writer, index = True)"
   ]
  }
 ],
 "metadata": {
  "kernelspec": {
   "display_name": "Python 3 (ipykernel)",
   "language": "python",
   "name": "python3"
  },
  "language_info": {
   "codemirror_mode": {
    "name": "ipython",
    "version": 3
   },
   "file_extension": ".py",
   "mimetype": "text/x-python",
   "name": "python",
   "nbconvert_exporter": "python",
   "pygments_lexer": "ipython3",
   "version": "3.9.12"
  }
 },
 "nbformat": 4,
 "nbformat_minor": 5
}
